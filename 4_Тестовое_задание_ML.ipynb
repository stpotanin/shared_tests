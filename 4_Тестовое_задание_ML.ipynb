{
  "nbformat": 4,
  "nbformat_minor": 0,
  "metadata": {
    "colab": {
      "provenance": [],
      "authorship_tag": "ABX9TyP63U+LINvBfhZkg+wPXB/Z"
    },
    "kernelspec": {
      "name": "python3",
      "display_name": "Python 3"
    },
    "language_info": {
      "name": "python"
    }
  },
  "cells": [
    {
      "cell_type": "markdown",
      "source": [
        "# Задание.\n",
        "\n",
        "В одной из странных вселенных есть сферическая планета, на которой живут жуки трёх цветов (`желтый=0, синий=1, красный=2`). При этом радиус планеты не известен, но известно что расстояния в этой вселенной меряется метрикой Эвклида.\n",
        "Файл `planet.csv` в каждой строчке содержит в первой колонке цвет жука и в последующих `1500` колонках координаты жука.\n",
        "\n",
        "Жуки подчинены странным законам и в определённой координате может быть жук только определённого цвета.\n",
        "\n",
        "От вас требуется сгенерировать файл `bugs.csv` в котором будет информация в таком же виде как в `planet.csv` про `100 желтых, 100 красных, 100 синих` жуков.\n",
        "\n",
        "Координаты ваших жуков должны быть на поверхности планеты, при этом до ближайшего жука из файла `planet.csv`, равно как и до жуков из вашего файла не должно быть меньше чем `epsilon=1.2`."
      ],
      "metadata": {
        "id": "rkNT6IVxF4tZ"
      }
    },
    {
      "cell_type": "code",
      "source": [
        "import numpy as np\n",
        "import pandas as pd\n",
        "\n",
        "# Загружаем датасет\n",
        "df = pd.read_csv(\"planet.zip\")\n",
        "colors = df.iloc[:, 0].values       # цвета\n",
        "coordinates = df.iloc[:, 1:].values # координаты\n",
        "\n",
        "# Разделяем жуков по цветам\n",
        "bugs_by_color = {c: coordinates[colors == c] for c in [0, 1, 2]}\n",
        "\n",
        "# Параметры\n",
        "epsilon = 1.2 # минимаальное расстояние до соседа\n",
        "new_n = 100   # новых жуков на 1 цвет\n",
        "\n",
        "# Находим радиус планеты (предполагаем, что жуки ползают по ней равномерно)\n",
        "center = np.mean(coordinates, axis=0)              # центр масс всех жуков\n",
        "rad = np.linalg.norm(coordinates - center, axis=1) # расстояния (радиусы) всех точек до центра\n",
        "radius = np.mean(rad)                              # средний радиус планеты (по всем жукам)\n",
        "# Можно было бы взять радиус по одной точке, но средний — надёжнее :)\n",
        "\n",
        "# Функция для генерации случайной точки на нашей гиперсфере\n",
        "def random_point(center, radius, dim=1500):\n",
        "    vec = np.random.normal(size=dim)  # случайный вектор в 1500-мерном пространстве\n",
        "    vec /= np.linalg.norm(vec)        # нормируем чтобы он лежал на единичной гиперсфере\n",
        "    return center + radius * vec      # масштабируем и смещаем точку на поверхность планеты\n",
        "\n",
        "# Создаём новых жуков\n",
        "new_bugs = []\n",
        "for color in [0, 1, 2]:\n",
        "    existing_bugs = bugs_by_color[color]\n",
        "    new_color_bugs = []\n",
        "    while len(new_color_bugs) < new_n:\n",
        "        new_bug = random_point(center, radius)\n",
        "\n",
        "        # Проверяем минимальное расстояние до всех существующих и новых жуков\n",
        "        if all(np.linalg.norm(new_bug - bug) >= epsilon for bug in existing_bugs) \\\n",
        "           and all(np.linalg.norm(new_bug - bug) >= epsilon for bug in new_color_bugs):\n",
        "            new_color_bugs.append(new_bug) # ура, жук нам подходит!\n",
        "\n",
        "    # Добавляем цвет\n",
        "    for bug in new_color_bugs:\n",
        "        new_bugs.append([color] + list(bug))\n",
        "\n",
        "# Сохраняем в файл с заголовками\n",
        "columns = [\"color\"] + [f\"dim_{i+1}\" for i in range(coordinates.shape[1])]\n",
        "new_df = pd.DataFrame(new_bugs, columns=columns)\n",
        "new_df.to_csv(\"bugs.csv\", index=False)"
      ],
      "metadata": {
        "id": "9uptPrI7IJmD"
      },
      "execution_count": 21,
      "outputs": []
    }
  ]
}